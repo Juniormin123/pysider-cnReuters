{
 "cells": [
  {
   "cell_type": "code",
   "execution_count": 2,
   "metadata": {},
   "outputs": [],
   "source": [
    "import requests\n",
    "from bs4 import BeautifulSoup\n",
    "from urllib.parse import urlencode\n",
    "import json\n",
    "import os\n",
    "import time\n",
    "import logging"
   ]
  },
  {
   "cell_type": "code",
   "execution_count": 7,
   "metadata": {},
   "outputs": [],
   "source": [
    "BASE_URL = 'https://cn.reuters.com/news/archive/topic-cn-top-news?'\n",
    "\n",
    "HEADERS = {\n",
    "    'user-agent': 'Mozilla/5.0 (Windows NT 10.0; Win64; x64) '\n",
    "                  'AppleWebKit/537.36 (KHTML, like Gecko) '\n",
    "                  'Chrome/78.0.3904.97 Safari/537.36'\n",
    "}\n",
    "\n",
    "params_base = {\n",
    "    'view': 'page',\n",
    "    'page': '{!s}',\n",
    "    'pageSize': 10\n",
    "}"
   ]
  },
  {
   "cell_type": "code",
   "execution_count": 8,
   "metadata": {},
   "outputs": [],
   "source": [
    "param = params_base\n",
    "params['page'] = 1\n",
    "url = BASE_URL + urlencode(params)\n",
    "resp = requests.get(url, headers=HEADERS)"
   ]
  },
  {
   "cell_type": "code",
   "execution_count": 9,
   "metadata": {},
   "outputs": [
    {
     "data": {
      "text/plain": "<Response [200]>"
     },
     "execution_count": 9,
     "metadata": {},
     "output_type": "execute_result"
    }
   ],
   "source": [
    "resp"
   ]
  },
  {
   "cell_type": "code",
   "execution_count": 11,
   "metadata": {},
   "outputs": [],
   "source": [
    "html = BeautifulSoup(resp.text, 'lxml')"
   ]
  },
  {
   "cell_type": "code",
   "execution_count": 29,
   "metadata": {},
   "outputs": [],
   "source": [
    "articles = html.select('div.news-headline-list article')"
   ]
  },
  {
   "cell_type": "code",
   "execution_count": 34,
   "metadata": {},
   "outputs": [],
   "source": [
    "titles = [tag.select('h3.story-title')[0] for tag in articles]"
   ]
  },
  {
   "cell_type": "code",
   "execution_count": 39,
   "metadata": {},
   "outputs": [
    {
     "data": {
      "text/plain": "[<h3 class=\"story-title\">\n \t\t\t\t\t\t\t\t今明两日部分中国大陆往来香港列车临时停运--中国铁路官网</h3>, <h3 class=\"story-title\">\n \t\t\t\t\t\t\t\t亚股涨跌不一 市场对美中贸易协议的疑虑加重</h3>, <h3 class=\"story-title\">\n \t\t\t\t\t\t\t\t香港特首称必须“和平解决”理工大学校园事件 有信心警队能处理</h3>, <h3 class=\"story-title\">\n \t\t\t\t\t\t\t\t日本央行总裁称央行正在研究数字货币 但目前没有计划发行</h3>, <h3 class=\"story-title\">\n \t\t\t\t\t\t\t\tWTO会是特朗普贸易战的下一个受害者吗？</h3>, <h3 class=\"story-title\">\n \t\t\t\t\t\t\t\t焦点：美联储当前货币政策“适当” 将观望经济发展--联储梅斯特</h3>, <h3 class=\"story-title\">\n \t\t\t\t\t\t\t\t2020年美国经济增长前景改善 尽管存在贸易风险--房利美</h3>, <h3 class=\"story-title\">\n \t\t\t\t\t\t\t\t白宫暗示将支持临时拨款法案以避免政府关门</h3>, <h3 class=\"story-title\">\n \t\t\t\t\t\t\t\t美国众议院在调查特朗普是否在通俄门调查中说谎</h3>, <h3 class=\"story-title\">\n \t\t\t\t\t\t\t\t中国对达成贸易协议持悲观态度 因特朗普不愿取消关税--CNBC</h3>]"
     },
     "execution_count": 39,
     "metadata": {},
     "output_type": "execute_result"
    }
   ],
   "source": [
    "titles"
   ]
  },
  {
   "cell_type": "code",
   "execution_count": 36,
   "metadata": {},
   "outputs": [],
   "source": [
    "contents = [tag.select('div.story-content p')[0] for tag in articles]"
   ]
  },
  {
   "cell_type": "code",
   "execution_count": 43,
   "metadata": {},
   "outputs": [],
   "source": [
    "class Page:\n",
    "\n",
    "    _count = 0\n",
    "\n",
    "    def __init__(self, titles:list=None, contents:list=None):\n",
    "        self._data = dict()\n",
    "        if titles and contents:\n",
    "            for i, (t, c) in enumerate(zip(titles, contents)):\n",
    "                self._data[f'article_{i}'] = dict(\n",
    "                    title=t,\n",
    "                    content=c\n",
    "                )\n",
    "        self.count = type(self)._count\n",
    "        type(self)._count += 1\n",
    "    \n",
    "    @classmethod\n",
    "    def reset_page_count(cls):\n",
    "        cls._count = 0\n",
    "    \n",
    "    def __getitem__(self, index:int):\n",
    "        if index < 0 or index > len(self._data):\n",
    "            raise IndexError(f'Index \"{index}\" out of range')\n",
    "        else:\n",
    "            return self._data[f'article_{index}']\n",
    "    \n",
    "    def __str__(self):\n",
    "        name = type(self).__name__\n",
    "        return f'{name}_{self.count}(article_count={len(self._data)})'\n",
    "    \n",
    "    __repr__ = __str__"
   ]
  },
  {
   "cell_type": "code",
   "execution_count": 52,
   "metadata": {},
   "outputs": [],
   "source": [
    "Page.reset_page_count()\n",
    "p1 = Page([i.text.strip() for i in titles], \n",
    "          [i.text.strip() for i in contents])"
   ]
  },
  {
   "cell_type": "code",
   "execution_count": 53,
   "metadata": {},
   "outputs": [
    {
     "data": {
      "text/plain": "Page_0(article_count=10)"
     },
     "execution_count": 53,
     "metadata": {},
     "output_type": "execute_result"
    }
   ],
   "source": [
    "p1"
   ]
  },
  {
   "cell_type": "code",
   "execution_count": 54,
   "metadata": {},
   "outputs": [
    {
     "data": {
      "text/plain": "{'title': '今明两日部分中国大陆往来香港列车临时停运--中国铁路官网',\n 'content': '路透北京11月19日 - 今明两日部分中国大陆往来香港列车临时停运。中国铁路武汉局集团发布临时停运公告称，周二（11月19日）北京西开Z97次运行至广州东终止，周三（11月20日）香港红磡开Z98次改为广州东始发，同时广州东—香港红磡Z97次停运、香港红磡—广州东Z98次停运。'}"
     },
     "execution_count": 54,
     "metadata": {},
     "output_type": "execute_result"
    }
   ],
   "source": [
    "p1[0]"
   ]
  },
  {
   "cell_type": "code",
   "execution_count": null,
   "metadata": {},
   "outputs": [],
   "source": []
  }
 ],
 "metadata": {
  "kernelspec": {
   "display_name": "Python 3",
   "language": "python",
   "name": "python3"
  },
  "language_info": {
   "codemirror_mode": {
    "name": "ipython",
    "version": 3
   },
   "file_extension": ".py",
   "mimetype": "text/x-python",
   "name": "python",
   "nbconvert_exporter": "python",
   "pygments_lexer": "ipython3",
   "version": "3.7.4"
  }
 },
 "nbformat": 4,
 "nbformat_minor": 4
}