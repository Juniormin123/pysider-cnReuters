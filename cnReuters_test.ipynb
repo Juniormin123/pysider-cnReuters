{
 "cells": [
  {
   "cell_type": "code",
   "execution_count": 1,
   "metadata": {},
   "outputs": [],
   "source": [
    "import requests\n",
    "from bs4 import BeautifulSoup\n",
    "from urllib.parse import urlencode\n",
    "import json\n",
    "import os\n",
    "import time\n",
    "import logging"
   ]
  },
  {
   "cell_type": "code",
   "execution_count": 2,
   "metadata": {},
   "outputs": [],
   "source": [
    "BASE_URL = 'https://cn.reuters.com/news/archive/topic-cn-top-news?'\n",
    "\n",
    "HEADERS = {\n",
    "    'user-agent': 'Mozilla/5.0 (Windows NT 10.0; Win64; x64) '\n",
    "                  'AppleWebKit/537.36 (KHTML, like Gecko) '\n",
    "                  'Chrome/78.0.3904.97 Safari/537.36'\n",
    "}\n",
    "\n",
    "params_base = {\n",
    "    'view': 'page',\n",
    "    'page': '{!s}',\n",
    "    'pageSize': 10\n",
    "}"
   ]
  },
  {
   "cell_type": "code",
   "execution_count": 4,
   "metadata": {},
   "outputs": [],
   "source": [
    "params = params_base\n",
    "params['page'] = 1\n",
    "url = BASE_URL + urlencode(params)\n",
    "resp = requests.get(url, headers=HEADERS)"
   ]
  },
  {
   "cell_type": "code",
   "execution_count": 5,
   "metadata": {},
   "outputs": [
    {
     "data": {
      "text/plain": "<Response [200]>"
     },
     "execution_count": 5,
     "metadata": {},
     "output_type": "execute_result"
    }
   ],
   "source": [
    "resp"
   ]
  },
  {
   "cell_type": "code",
   "execution_count": 6,
   "metadata": {},
   "outputs": [],
   "source": [
    "html = BeautifulSoup(resp.text, 'lxml')"
   ]
  },
  {
   "cell_type": "code",
   "execution_count": 7,
   "metadata": {},
   "outputs": [],
   "source": [
    "articles = html.select('div.news-headline-list article')"
   ]
  },
  {
   "cell_type": "code",
   "execution_count": 8,
   "metadata": {},
   "outputs": [],
   "source": [
    "titles = [tag.select('h3.story-title')[0] for tag in articles]"
   ]
  },
  {
   "cell_type": "code",
   "execution_count": 9,
   "metadata": {},
   "outputs": [
    {
     "data": {
      "text/plain": "[<h3 class=\"story-title\">\n \t\t\t\t\t\t\t\t中国10月银行结售汇逆差扩至44亿美元 外汇市场预期更趋平稳</h3>, <h3 class=\"story-title\">\n \t\t\t\t\t\t\t\t易纲称央行要发挥好LPR引导作用 促进实际贷款利率下行</h3>, <h3 class=\"story-title\">\n \t\t\t\t\t\t\t\t中国10月财政收入同比增速创近一年半新高 支出为近一年低点（更新版）</h3>, <h3 class=\"story-title\">\n \t\t\t\t\t\t\t\t焦点：华为称美国再度延长许可没意义 重申受到不公待遇</h3>, <h3 class=\"story-title\">\n \t\t\t\t\t\t\t\t滴滴将在东京使用奔驰、特斯拉等车型提供高端打车服务</h3>, <h3 class=\"story-title\">\n \t\t\t\t\t\t\t\t谈判前景转淡人民币缩量收跌至半个月新低 短期料难出方向</h3>, <h3 class=\"story-title\">\n \t\t\t\t\t\t\t\t中国政府坚定支持香港特首林郑月娥--外交部</h3>, <h3 class=\"story-title\">\n \t\t\t\t\t\t\t\t中国三季度消费趋势指数保持高位 三线城市更追求潮流时尚--尼尔森</h3>, <h3 class=\"story-title\">\n \t\t\t\t\t\t\t\t中国股市收涨近1%创两周最大升幅 市场寄望当局采取经济刺激措施</h3>, <h3 class=\"story-title\">\n \t\t\t\t\t\t\t\t焦点：日本考虑发行50年期公债以支撑收益率</h3>]"
     },
     "execution_count": 9,
     "metadata": {},
     "output_type": "execute_result"
    }
   ],
   "source": [
    "titles"
   ]
  },
  {
   "cell_type": "code",
   "execution_count": 15,
   "metadata": {},
   "outputs": [],
   "source": [
    "datss = [tag.select('span.timestamp')[0] for tag in articles]"
   ]
  },
  {
   "cell_type": "code",
   "execution_count": 16,
   "metadata": {},
   "outputs": [
    {
     "data": {
      "text/plain": "[<span class=\"timestamp\">19:29 BJT</span>,\n <span class=\"timestamp\">18:58 BJT</span>,\n <span class=\"timestamp\">18:40 BJT</span>,\n <span class=\"timestamp\">18:08 BJT</span>,\n <span class=\"timestamp\">17:44 BJT</span>,\n <span class=\"timestamp\">17:37 BJT</span>,\n <span class=\"timestamp\">16:37 BJT</span>,\n <span class=\"timestamp\">16:33 BJT</span>,\n <span class=\"timestamp\">16:09 BJT</span>,\n <span class=\"timestamp\">15:53 BJT</span>]"
     },
     "execution_count": 16,
     "metadata": {},
     "output_type": "execute_result"
    }
   ],
   "source": [
    "datss"
   ]
  },
  {
   "cell_type": "code",
   "execution_count": 10,
   "metadata": {},
   "outputs": [],
   "source": [
    "contents = [tag.select('div.story-content p')[0] for tag in articles]"
   ]
  },
  {
   "cell_type": "code",
   "execution_count": 11,
   "metadata": {},
   "outputs": [],
   "source": [
    "class Page:\n",
    "\n",
    "    _count = 0\n",
    "\n",
    "    def __init__(self, titles:list=None, contents:list=None):\n",
    "        self._data = dict()\n",
    "        if titles and contents:\n",
    "            for i, (t, c) in enumerate(zip(titles, contents)):\n",
    "                self._data[f'article_{i}'] = dict(\n",
    "                    title=t,\n",
    "                    content=c\n",
    "                )\n",
    "        self.count = type(self)._count\n",
    "        type(self)._count += 1\n",
    "    \n",
    "    @classmethod\n",
    "    def reset_page_count(cls):\n",
    "        cls._count = 0\n",
    "    \n",
    "    def __getitem__(self, index:int):\n",
    "        if index < 0 or index > len(self._data):\n",
    "            raise IndexError(f'Index \"{index}\" out of range')\n",
    "        else:\n",
    "            return self._data[f'article_{index}']\n",
    "    \n",
    "    def __str__(self):\n",
    "        name = type(self).__name__\n",
    "        return f'{name}_{self.count}(article_count={len(self._data)})'\n",
    "    \n",
    "    __repr__ = __str__"
   ]
  },
  {
   "cell_type": "code",
   "execution_count": 12,
   "metadata": {},
   "outputs": [],
   "source": [
    "Page.reset_page_count()\n",
    "p1 = Page([i.text.strip() for i in titles], \n",
    "          [i.text.strip() for i in contents])"
   ]
  },
  {
   "cell_type": "code",
   "execution_count": 13,
   "metadata": {},
   "outputs": [
    {
     "data": {
      "text/plain": "Page_0(article_count=10)"
     },
     "execution_count": 13,
     "metadata": {},
     "output_type": "execute_result"
    }
   ],
   "source": [
    "p1"
   ]
  },
  {
   "cell_type": "code",
   "execution_count": 14,
   "metadata": {},
   "outputs": [
    {
     "data": {
      "text/plain": "{'title': '中国10月银行结售汇逆差扩至44亿美元 外汇市场预期更趋平稳',\n 'content': '路透北京11月19日 - 中国国家外汇管理局周二公布数据显示，10月银行结售汇逆差为44亿美元，虽高于上月的34亿美元逆差规模，但低于前九个月平均水平；1-10月累计结售汇逆差526亿美元。'}"
     },
     "execution_count": 14,
     "metadata": {},
     "output_type": "execute_result"
    }
   ],
   "source": [
    "p1[0]"
   ]
  },
  {
   "cell_type": "code",
   "execution_count": null,
   "metadata": {},
   "outputs": [],
   "source": []
  }
 ],
 "metadata": {
  "kernelspec": {
   "display_name": "Python 3",
   "language": "python",
   "name": "python3"
  },
  "language_info": {
   "codemirror_mode": {
    "name": "ipython",
    "version": 3
   },
   "file_extension": ".py",
   "mimetype": "text/x-python",
   "name": "python",
   "nbconvert_exporter": "python",
   "pygments_lexer": "ipython3",
   "version": "3.7.4"
  }
 },
 "nbformat": 4,
 "nbformat_minor": 4
}